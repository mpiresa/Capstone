{
 "cells": [
  {
   "cell_type": "markdown",
   "id": "b3b2890b",
   "metadata": {},
   "source": [
    "Fusion des bdd"
   ]
  },
  {
   "cell_type": "markdown",
   "id": "0c7e4aa5",
   "metadata": {},
   "source": []
  }
 ],
 "metadata": {
  "language_info": {
   "name": "python"
  }
 },
 "nbformat": 4,
 "nbformat_minor": 5
}
